{
 "cells": [
  {
   "cell_type": "code",
   "execution_count": 1,
   "metadata": {},
   "outputs": [],
   "source": [
    "import hdlparse.verilog_parser as vlog\n",
    "import re\n",
    "import random\n",
    "\n",
    "filename = \"Module1.v\"\n",
    "ports = []\n",
    "if_cases_conditions = set()\n",
    "always_conditions = set()\n",
    "case_conditions = set()"
   ]
  },
  {
   "cell_type": "code",
   "execution_count": 2,
   "metadata": {},
   "outputs": [],
   "source": [
    "def vector_size(vector) :\n",
    "    left = vector[1]\n",
    "    right = vector[-2]\n",
    "    return (abs(int(left) - int(right))+1)"
   ]
  },
  {
   "cell_type": "code",
   "execution_count": 3,
   "metadata": {},
   "outputs": [],
   "source": [
    "def vector_sizeR(line):\n",
    "\tif re.search(r'\\[', line):\n",
    "\t\tlval = re.findall(r'\\[(.*):', line)[0]\n",
    "\t\trval = re.findall(r'\\[.*:(.*)\\]', line)[0]\n",
    "\t\treturn (abs(int(rval) - int(lval)) + 1)\n",
    "\treturn 1"
   ]
  },
  {
   "attachments": {},
   "cell_type": "markdown",
   "metadata": {},
   "source": [
    "## Open and read verilog file"
   ]
  },
  {
   "cell_type": "code",
   "execution_count": 4,
   "metadata": {},
   "outputs": [],
   "source": [
    "vlog_ex = vlog.VerilogExtractor()\n",
    "with open(filename, 'rt') as fh:\n",
    "    code = fh.read()\n",
    "vlog_mods = vlog_ex.extract_objects_from_source(code)\n",
    "vlog_mods = vlog_ex.extract_objects(filename)"
   ]
  },
  {
   "attachments": {},
   "cell_type": "markdown",
   "metadata": {},
   "source": [
    "## Add inputs and outputs to list as dictionary"
   ]
  },
  {
   "cell_type": "code",
   "execution_count": 5,
   "metadata": {},
   "outputs": [
    {
     "name": "stdout",
     "output_type": "stream",
     "text": [
      "Module \"Test1\":\n",
      "\tHasAccess           input   wire\n",
      "\tInput_Pin           input   reg [3:0]\n",
      "\tmessage             output  reg [3:0]\n",
      "\tWelcome             output  reg\n"
     ]
    }
   ],
   "source": [
    "\n",
    "\n",
    "for m in vlog_mods:\n",
    "    print('Module \"{}\":'.format(m.name))\n",
    "    for p in m.ports:\n",
    "        if (p.data_type).find('[') != -1 :\n",
    "            ports.append({\"name\":p.name ,\"mode\":p.mode ,\"data_type\":(p.data_type).split()[0],\"length\":vector_size((p.data_type).split()[1]) })\n",
    "        else :\n",
    "            ports.append({\"name\":p.name ,\"mode\":p.mode ,\"data_type\":p.data_type, \"length\": 1})\n",
    "        print('\\t{:20}{:8}{}'.format(p.name, p.mode, p.data_type))\n"
   ]
  },
  {
   "cell_type": "code",
   "execution_count": 6,
   "metadata": {},
   "outputs": [
    {
     "name": "stdout",
     "output_type": "stream",
     "text": [
      "[{'name': 'HasAccess', 'mode': 'input', 'data_type': 'wire', 'length': 1}, {'name': 'Input_Pin', 'mode': 'input', 'data_type': 'reg', 'length': 4}, {'name': 'message', 'mode': 'output', 'data_type': 'reg', 'length': 4}, {'name': 'Welcome', 'mode': 'output', 'data_type': 'reg', 'length': 1}]\n"
     ]
    }
   ],
   "source": [
    "print(ports)"
   ]
  },
  {
   "attachments": {},
   "cell_type": "markdown",
   "metadata": {},
   "source": [
    "# Control flow parsing"
   ]
  },
  {
   "attachments": {},
   "cell_type": "markdown",
   "metadata": {},
   "source": [
    "### Parsing if conditions"
   ]
  },
  {
   "cell_type": "code",
   "execution_count": 7,
   "metadata": {},
   "outputs": [],
   "source": [
    "def parse_if(line) :\n",
    "    if line.find(\"||\") != -1 or line.find(\"&&\") != -1:\n",
    "        for port in ports :\n",
    "            if port[\"mode\"]==\"input\" :\n",
    "                if line.find(port[\"name\"]) != -1 :\n",
    "                    if_cases_conditions.add(port[\"name\"])\n",
    "    else :\n",
    "        str = re.split(\"if\\s*\\(\\s*!?\",line)[1]\n",
    "        str = re.split(\"\\s*\\)\",str)[0]\n",
    "        if_cases_conditions.add(str)\n",
    "        "
   ]
  },
  {
   "attachments": {},
   "cell_type": "markdown",
   "metadata": {},
   "source": [
    "### Parse always statement"
   ]
  },
  {
   "cell_type": "code",
   "execution_count": 8,
   "metadata": {},
   "outputs": [],
   "source": [
    "def parse_always(line) :\n",
    "    if line.find(\"||\") != -1 or line.find(\"&&\") != -1 or line.find(\"or\") != -1 or line.find(\"and\") != -1:\n",
    "        for port in ports :\n",
    "            if port[\"mode\"]==\"input\" :\n",
    "                if line.find(port[\"name\"]) != -1 :\n",
    "                    always_conditions.add(port[\"name\"])\n",
    "    else :\n",
    "        str = re.split(\"always\\s*@\\s*\\(\\s*!?\",line)[1]\n",
    "        str = re.split(\"\\s*\\)\",str)[0]\n",
    "        always_conditions.add(str)"
   ]
  },
  {
   "attachments": {},
   "cell_type": "markdown",
   "metadata": {},
   "source": [
    "### Parse case statement"
   ]
  },
  {
   "cell_type": "code",
   "execution_count": 9,
   "metadata": {},
   "outputs": [],
   "source": [
    "def parse_case(line) :\n",
    "    str = re.split(\"case\\s*\\(\\s*\",line)[1]\n",
    "    str = re.split(\"\\s*\\)\",str)[0]\n",
    "    case_conditions.add(str)"
   ]
  },
  {
   "cell_type": "code",
   "execution_count": 10,
   "metadata": {},
   "outputs": [
    {
     "name": "stdout",
     "output_type": "stream",
     "text": [
      "{\"message == 4'b1111 & Input_Pin == pin\", 'HasAccess'}\n",
      "{'HasAccess'}\n",
      "set()\n"
     ]
    }
   ],
   "source": [
    "file = open(filename,\"rt\")\n",
    "for line in file :\n",
    "    if re.search(\"if\\s*\\(\\s*\\w+\",line) :\n",
    "        parse_if(line)\n",
    "    if re.search(\"always\\s*@\\s*\\(\\s*\\w+\\s*\",line):\n",
    "        parse_always(line)\n",
    "    if re.search(\"case\\s*\\(\\s*\\w+\\s*\\)\",line) :\n",
    "        parse_case(line)\n",
    "print(if_cases_conditions)\n",
    "print(always_conditions)\n",
    "print(case_conditions)"
   ]
  },
  {
   "attachments": {},
   "cell_type": "markdown",
   "metadata": {},
   "source": [
    "# Generator"
   ]
  },
  {
   "attachments": {},
   "cell_type": "markdown",
   "metadata": {},
   "source": [
    "### Output on console"
   ]
  },
  {
   "cell_type": "code",
   "execution_count": 11,
   "metadata": {},
   "outputs": [],
   "source": [
    "\n",
    "# time_delay = 10\n",
    "# print('module ' + m.name + '_tb();')\n",
    "# for port in ports:\n",
    "#     if port[\"mode\"].find('input', 0, 5) != -1:\n",
    "#         print('    ', port[\"mode\"].replace('input', 'reg'), ';')\n",
    "#     elif port[\"mode\"].find('output', 0, 6) != -1:\n",
    "#         print('    ', port[\"mode\"].replace('output', 'wire'),';')\n",
    "#     # else:\n",
    "#     #     print('    ', port, ';')\n",
    "# print('//initial block\\ninitial','\\n  begin', '\\n    //initial values')\n",
    "# for i in range (7):\n",
    "#     if(i != 0):\n",
    "#         print('  #'+ str(time_delay))\n",
    "#     for line in ports:\n",
    "#         if line[\"mode\"] == 'input':\n",
    "#             val = line[\"length\"]\n",
    "#             print('    ',line[\"name\"], '=', str(val),'\\'b'+ bin(random.randint(0, pow(2,val)-1))[2:].zfill(val))\n",
    "\n",
    "# print('  $finish;','\\nend\\n')\n",
    "# print(m.name, 'DUT (')\n",
    "# for i,line in enumerate(ports, 0):\n",
    "#     print('  ',line[\"name\"], end='')\n",
    "#     if i != len(ports)-1:\n",
    "#         print(',')\n",
    "#     else:\n",
    "#         print('\\n);')\n",
    "\n",
    "# print('\\nendmodule')\n"
   ]
  },
  {
   "attachments": {},
   "cell_type": "markdown",
   "metadata": {},
   "source": [
    "## File generation"
   ]
  },
  {
   "attachments": {},
   "cell_type": "markdown",
   "metadata": {},
   "source": [
    "### generate vector function if port is vector"
   ]
  },
  {
   "cell_type": "code",
   "execution_count": 12,
   "metadata": {},
   "outputs": [],
   "source": [
    "def generate_vector(port_length):\n",
    "    if port_length == 1:\n",
    "        return ' '\n",
    "    else:\n",
    "        return (' [' + str(port_length - 1) + ':0] ')"
   ]
  },
  {
   "attachments": {},
   "cell_type": "markdown",
   "metadata": {},
   "source": [
    "### Add testbench content"
   ]
  },
  {
   "cell_type": "code",
   "execution_count": 13,
   "metadata": {},
   "outputs": [],
   "source": [
    "def testbench_header_and_ports():\n",
    "    content = \"\"\n",
    "    content += ('module ' + m.name + '_tb();\\n')\n",
    "    for port in ports:\n",
    "    # if port[\"mode\"].find('wire'):\n",
    "    #     port.replace('wire', ' ')\n",
    "        if port[\"mode\"].find('input', 0, 5) != -1:\n",
    "            content += ('    ' + port[\"mode\"].replace('input', 'reg') +  generate_vector(port[\"length\"]) + port[\"name\"] + ';\\n')\n",
    "        elif port[\"mode\"].find('output', 0, 6) != -1:\n",
    "            content += ('    ' + port[\"mode\"].replace('output', 'wire') + generate_vector(port[\"length\"]) + port[\"name\"] +  ';\\n')\n",
    "    return content"
   ]
  },
  {
   "cell_type": "code",
   "execution_count": 14,
   "metadata": {},
   "outputs": [],
   "source": [
    "def testbench_initial_block(time_delay):\n",
    "    content = \"\"\n",
    "    content += ('//initial block\\ninitial\\n  begin\\n    //initial values\\n')\n",
    "    maxPortSize = 3\n",
    "    for port in ports :\n",
    "        maxPortSize = max(port[\"length\"],maxPortSize)\n",
    "    iterationCounter = int(pow(2,maxPortSize)/2)\n",
    "    for i in range (iterationCounter):\n",
    "        if(i != 0):\n",
    "            content += ('  #'+ str(time_delay)+'\\n')\n",
    "        for line in ports:\n",
    "            if line[\"mode\"] == 'input':\n",
    "                val = line[\"length\"]\n",
    "                content += ('    ' + line[\"name\"] + ' = '+ str(val) + '\\'b'+ bin(random.randint(0, pow(2,val)-1))[2:].zfill(val)+'\\n')\n",
    "\n",
    "    content += ('  $finish;\\nend\\n')\n",
    "    return content"
   ]
  },
  {
   "cell_type": "code",
   "execution_count": 15,
   "metadata": {},
   "outputs": [],
   "source": [
    "def testbench_design_instance():\n",
    "    content = \"\"\n",
    "    content += ('// instaniate design instance\\n  ' + m.name + ' DUT (\\n')\n",
    "    for i,line in enumerate(ports, 0):\n",
    "        content += ('    .' + (line[\"name\"]).replace('_tb', '') + '(' + line[\"name\"]+')')\n",
    "        if i != len(ports)-1:\n",
    "            content += (',\\n')\n",
    "        else:\n",
    "            content += ('\\n);\\n')\n",
    "\n",
    "    content += ('\\nendmodule')\n",
    "\n",
    "    return content"
   ]
  },
  {
   "cell_type": "code",
   "execution_count": 16,
   "metadata": {},
   "outputs": [],
   "source": [
    "# content = \"\"\n",
    "# time_delay = 10 #input or not\n",
    "# content += ('module ' + m.name + '_tb();\\n')\n",
    "# for port in ports:\n",
    "#     # if port[\"data_type\"].find('wire', 0, 12):\n",
    "#     #     port[\"data_type\"].replace('wire', '')\n",
    "#         if port[\"mode\"].find('input', 0, 5) != -1:\n",
    "#             content += ('    ' + port[\"mode\"].replace('input', 'reg') + ' ' + port[\"name\"] +';\\n')\n",
    "#         elif port[\"mode\"].find('output', 0, 6) != -1:\n",
    "            \n",
    "#             content += ('    ' + port[\"mode\"].replace('output', 'wire') +' ' + port[\"name\"] +';\\n')\n",
    "#         # else:\n",
    "#         #     content += ('    ', port, ';\\n')\n",
    "# content += ('//initial block\\ninitial\\n  begin\\n    //initial values\\n')\n",
    "# maxPortSize = 3\n",
    "# for port in ports :\n",
    "#     maxPortSize = max(port[\"length\"],maxPortSize)\n",
    "# iterationCounter = int(pow(2,maxPortSize)/2)\n",
    "# for i in range (iterationCounter):\n",
    "#     if(i != 0):\n",
    "#         content += ('  #'+ str(time_delay)+'\\n')\n",
    "#     for line in ports:\n",
    "#         if line[\"mode\"] == 'input':\n",
    "#             val = line[\"length\"]\n",
    "#             content += ('    ' + line[\"name\"] + ' = '+ str(val) + '\\'b'+ bin(random.randint(0, pow(2,val)-1))[2:].zfill(val)+'\\n')\n",
    "\n",
    "# content += ('  $finish;\\nend\\n')\n",
    "# content += (m.name + ' DUT (\\n')\n",
    "# for i,line in enumerate(ports, 0):\n",
    "#     content += ('  .' + (line[\"name\"]).replace('_tb', '') + '(' + line[\"name\"]+')')\n",
    "#     if i != len(ports)-1:\n",
    "#         content += (',\\n')\n",
    "#     else:\n",
    "#         content += ('\\n);\\n')\n",
    "\n",
    "# content += ('\\nendmodule')"
   ]
  },
  {
   "attachments": {},
   "cell_type": "markdown",
   "metadata": {},
   "source": [
    "## Testbench file generation"
   ]
  },
  {
   "cell_type": "code",
   "execution_count": 17,
   "metadata": {},
   "outputs": [],
   "source": [
    "def generate_output_file(file_content):\n",
    "    with open('output.v', 'w') as f:\n",
    "        f.write(file_content)"
   ]
  },
  {
   "cell_type": "code",
   "execution_count": 18,
   "metadata": {},
   "outputs": [],
   "source": [
    "time_delay = 10 #input or not\n",
    "test_bench_content = \"\"\n",
    "test_bench_content += testbench_header_and_ports() + testbench_initial_block(time_delay) + testbench_design_instance()\n",
    "generate_output_file(test_bench_content)"
   ]
  }
 ],
 "metadata": {
  "kernelspec": {
   "display_name": "Python 3",
   "language": "python",
   "name": "python3"
  },
  "language_info": {
   "codemirror_mode": {
    "name": "ipython",
    "version": 3
   },
   "file_extension": ".py",
   "mimetype": "text/x-python",
   "name": "python",
   "nbconvert_exporter": "python",
   "pygments_lexer": "ipython3",
   "version": "3.11.1"
  },
  "orig_nbformat": 4,
  "vscode": {
   "interpreter": {
    "hash": "5181c353ac3e898d3fda5e0f59c1bb89b153b5879992718e6ee7ada426f666b7"
   }
  }
 },
 "nbformat": 4,
 "nbformat_minor": 2
}
