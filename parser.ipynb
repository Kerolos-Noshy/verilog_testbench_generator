{
 "cells": [
  {
   "attachments": {},
   "cell_type": "markdown",
   "metadata": {},
   "source": [
    "### Import libraries"
   ]
  },
  {
   "cell_type": "code",
   "execution_count": 426,
   "metadata": {},
   "outputs": [],
   "source": [
    "import hdlparse.verilog_parser as vlog\n",
    "import re\n",
    "import random"
   ]
  },
  {
   "attachments": {},
   "cell_type": "markdown",
   "metadata": {},
   "source": [
    "### open and read verilog file"
   ]
  },
  {
   "cell_type": "code",
   "execution_count": 427,
   "metadata": {},
   "outputs": [],
   "source": [
    "vlog_ex = vlog.VerilogExtractor()\n",
    "fname = 'Module1.v'\n",
    "with open(fname, 'rt') as fh:\n",
    "  code = fh.read()\n",
    "vlog_mods = vlog_ex.extract_objects_from_source(code)\n",
    "\n",
    "vlog_mods = vlog_ex.extract_objects(fname)"
   ]
  },
  {
   "cell_type": "code",
   "execution_count": 450,
   "metadata": {},
   "outputs": [],
   "source": [
    "if_cases_conditions = set()\n",
    "always_conditions = set()\n",
    "case_conditions = set()"
   ]
  },
  {
   "attachments": {},
   "cell_type": "markdown",
   "metadata": {},
   "source": [
    "### print module name and ports"
   ]
  },
  {
   "cell_type": "code",
   "execution_count": 428,
   "metadata": {},
   "outputs": [
    {
     "name": "stdout",
     "output_type": "stream",
     "text": [
      "Module \"Test1\":\n",
      "  Ports:\n",
      "\tHasAccess           input   wire\n",
      "\tInput_Pin           input   reg [3:0]\n",
      "\tmessage             output  reg [3:0]\n",
      "\tWelcome             output  reg\n"
     ]
    }
   ],
   "source": [
    "for m in vlog_mods:\n",
    "  print('Module \"{}\":'.format(m.name))\n",
    "\n",
    "  # print('  Parameters:')\n",
    "  # for p in m.generics:\n",
    "  #   print('\\t{:20}{:8}{}'.format(p.name, p.mode, p.data_type))\n",
    "\n",
    "  print('  Ports:')\n",
    "  for p in m.ports:\n",
    "    print('\\t{:20}{:8}{}'.format(p.name, p.mode, p.data_type))"
   ]
  },
  {
   "attachments": {},
   "cell_type": "markdown",
   "metadata": {},
   "source": [
    "### add each inputs and outputs in list as dictionary"
   ]
  },
  {
   "cell_type": "code",
   "execution_count": 429,
   "metadata": {},
   "outputs": [
    {
     "name": "stdout",
     "output_type": "stream",
     "text": [
      "\n",
      "  Ports:\n",
      "\tHasAccess           input   wire\n",
      "\tInput_Pin           input   reg [3:0]\n",
      "\tmessage             output  reg [3:0]\n",
      "\tWelcome             output  reg\n"
     ]
    }
   ],
   "source": [
    "for m in vlog_mods:\n",
    "\n",
    "  inputs_list = []\n",
    "  ports_list = []\n",
    "  print('\\n  Ports:')\n",
    "  # for p in m.ports:\n",
    "  #   inputs_list.append({\"mode\":p.mode, \"type\":p.data_type, \"name\":p.name})\n",
    "  #   ports_list.append((p.mode + ' ' + p.data_type + ' ' + p.name))\n",
    "  #   print('\\t\\t',(p.mode + ' ' + p.data_type + ' ' + p.name))\n",
    "  for p in m.ports:\n",
    "        if (p.data_type).find('[') != -1 :\n",
    "            inputs_list.append({\"name\":p.name ,\"mode\":p.mode ,\"data_type\":(p.data_type).split()[0],\"length\":vector_size((p.data_type).split()[1]) })\n",
    "        else :\n",
    "            inputs_list.append({\"name\":p.name ,\"mode\":p.mode ,\"data_type\":p.data_type, \"length\": 1})\n",
    "        print('\\t{:20}{:8}{}'.format(p.name, p.mode, p.data_type))\n"
   ]
  },
  {
   "cell_type": "code",
   "execution_count": 451,
   "metadata": {},
   "outputs": [
    {
     "name": "stdout",
     "output_type": "stream",
     "text": [
      "[{'name': 'HasAccess', 'mode': 'input', 'data_type': 'wire', 'length': 1}, {'name': 'Input_Pin', 'mode': 'input', 'data_type': 'reg', 'length': 4}, {'name': 'message', 'mode': 'output', 'data_type': 'reg', 'length': 4}, {'name': 'Welcome', 'mode': 'output', 'data_type': 'reg', 'length': 1}]\n"
     ]
    }
   ],
   "source": [
    "print(inputs_list)"
   ]
  },
  {
   "cell_type": "code",
   "execution_count": 413,
   "metadata": {},
   "outputs": [
    {
     "name": "stdout",
     "output_type": "stream",
     "text": [
      "\n",
      "Module \"Test1\":\n",
      "  Parameters:\n",
      "\n",
      "  Ports:\n",
      "\t\t input wire HasAccess\n",
      "\t\t input reg [3:0] Input_Pin\n",
      "\t\t output reg [3:0] message\n",
      "\t\t output reg Welcome\n"
     ]
    }
   ],
   "source": [
    "for m in vlog_mods:\n",
    "  parameters_list = []\n",
    "  # ports_list = []\n",
    "  print('\\nModule \"{}\":'.format(m.name))\n",
    "\n",
    "  print('  Parameters:')\n",
    "  for p in m.generics:\n",
    "    print('\\t\\t',(p.mode + ' ' +  p.data_type + ' ' + p.name))\n",
    "    parameters_list.append(p.mode + ' ' + p.data_type + ' ' + p.name)\n",
    "\n",
    "  print('\\n  Ports:')\n",
    "  for p in m.ports:\n",
    "    # ports_list.append((p.mode + ' ' + p.data_type + ' ' + p.name))\n",
    "    print('\\t\\t',(p.mode + ' ' + p.data_type + ' ' + p.name))"
   ]
  },
  {
   "attachments": {},
   "cell_type": "markdown",
   "metadata": {},
   "source": [
    "## Control flow parsing"
   ]
  },
  {
   "attachments": {},
   "cell_type": "markdown",
   "metadata": {},
   "source": [
    "### parseing if conditions"
   ]
  },
  {
   "cell_type": "code",
   "execution_count": 452,
   "metadata": {},
   "outputs": [],
   "source": [
    "def parse_if(line):\n",
    "    if line.find(\"||\") != -1 or line.find(\"&&\") != -1:\n",
    "        for port in inputs_list :\n",
    "            if port[\"mode\"]==\"input\" :\n",
    "                if line.find(port[\"name\"]) != -1 :\n",
    "                    if_cases_conditions.add(port[\"name\"])\n",
    "    else :\n",
    "        str = re.split(\"if\\s*\\(\\s*!?\",line)[1]\n",
    "        str = re.split(\"\\s*\\)\",str)[0]\n",
    "        if_cases_conditions.add(str)"
   ]
  },
  {
   "cell_type": "code",
   "execution_count": 463,
   "metadata": {},
   "outputs": [
    {
     "name": "stdout",
     "output_type": "stream",
     "text": [
      "HasAccess || b)\n"
     ]
    }
   ],
   "source": [
    "str = \"if  (HasAccess || b)\"\n",
    "print((re.split(\"if\\s*\\(\\s*!?\",str))[1])\n",
    "# parse_if(str)\n",
    "# print(if_cases_conditions)"
   ]
  },
  {
   "attachments": {},
   "cell_type": "markdown",
   "metadata": {},
   "source": [
    "### parseing always statement"
   ]
  },
  {
   "cell_type": "code",
   "execution_count": 465,
   "metadata": {},
   "outputs": [],
   "source": [
    "def parse_always(line) :\n",
    "    if line.find(\"||\") != -1 or line.find(\"&&\") != -1 or line.find(\"or\") != -1 or line.find(\"and\") != -1:\n",
    "        for port in inputs_list :\n",
    "            if port[\"mode\"]==\"input\" :\n",
    "                if line.find(port[\"name\"]) != -1 :\n",
    "                    always_conditions.add(port[\"name\"])\n",
    "    else :\n",
    "        str = re.split(\"always\\s*@\\s*\\(\\s*!?\",line)[1]\n",
    "        str = re.split(\"\\s*\\)\",str)[0]\n",
    "        always_conditions.add(str)"
   ]
  },
  {
   "attachments": {},
   "cell_type": "markdown",
   "metadata": {},
   "source": [
    "### parseing case statemnt"
   ]
  },
  {
   "cell_type": "code",
   "execution_count": 466,
   "metadata": {},
   "outputs": [],
   "source": [
    "def parse_case(line):\n",
    "    str = re.split(\"case\\s*\\(\\s*\",line)[1]\n",
    "    str = re.split(\"\\s*\\)\",str)[0]\n",
    "    case_conditions.add(str)"
   ]
  },
  {
   "cell_type": "code",
   "execution_count": 467,
   "metadata": {},
   "outputs": [
    {
     "name": "stdout",
     "output_type": "stream",
     "text": [
      "{'x', \"message == 4'b1111 & Input_Pin == pin\", 'HasAccess'}\n",
      "{'HasAccess'}\n",
      "set()\n"
     ]
    }
   ],
   "source": [
    "file = open(fname,\"rt\")\n",
    "for line in file :\n",
    "    if re.search(\"if\\s*\\(\\s*\\w+\",line) :\n",
    "        parse_if(line)\n",
    "    if re.search(\"always\\s*@\\s*\\(\\s*\\w+\\s*\",line):\n",
    "        parse_always(line)\n",
    "    if re.search(\"case\\s*\\(\\s*\\w+\\s*\\)\",line) :\n",
    "        parse_case(line)\n",
    "print(if_cases_conditions)\n",
    "print(always_conditions)\n",
    "print(case_conditions)"
   ]
  },
  {
   "attachments": {},
   "cell_type": "markdown",
   "metadata": {},
   "source": [
    "### vector_size function return vector size or 1 if it not a vector"
   ]
  },
  {
   "cell_type": "code",
   "execution_count": 431,
   "metadata": {},
   "outputs": [],
   "source": [
    "def vector_size(line):\n",
    "\tif re.search(r'\\[', line):\n",
    "\t\tlval = re.findall(r'\\[(.*):', line)[0]\n",
    "\t\trval = re.findall(r'\\[.*:(.*)\\]', line)[0]\n",
    "\t\treturn (abs(int(rval) - int(lval)) + 1)\n",
    "\treturn 1"
   ]
  },
  {
   "cell_type": "code",
   "execution_count": 432,
   "metadata": {},
   "outputs": [
    {
     "name": "stdout",
     "output_type": "stream",
     "text": [
      "input\n"
     ]
    }
   ],
   "source": [
    "print(inputs_list[0]['mode'])"
   ]
  },
  {
   "cell_type": "code",
   "execution_count": 417,
   "metadata": {},
   "outputs": [
    {
     "name": "stdout",
     "output_type": "stream",
     "text": [
      "inputs vector size\n"
     ]
    }
   ],
   "source": [
    "# print('inputs vector size')\n",
    "# for i in range(len(inputs_list)):\n",
    "#     for mode in inputs_list[i]['mode']:\n",
    "#         if(mode.strip() == 'input'):\n",
    "#             print('line ', i, '-> ', vector_size(line))"
   ]
  },
  {
   "cell_type": "markdown",
   "metadata": {},
   "source": [
    "### print testbench file in console"
   ]
  },
  {
   "cell_type": "code",
   "execution_count": 418,
   "metadata": {},
   "outputs": [
    {
     "name": "stdout",
     "output_type": "stream",
     "text": [
      "module Test1_tb();\n",
      "//initial block\n",
      "initial \n",
      "  begin \n",
      "    //initial values\n",
      "  #10\n",
      "  #10\n",
      "  #10\n",
      "  #10\n",
      "  #10\n",
      "  #10\n",
      "  $finish; \n",
      "end\n",
      "\n",
      "Test1 DUT (\n",
      "\n",
      "endmodule\n"
     ]
    }
   ],
   "source": [
    "# time_delay = 10\n",
    "# print('module ' + m.name + '_tb();')\n",
    "# for port in ports_list:\n",
    "    \n",
    "#     if port.find('input', 0, 5) != -1:\n",
    "#         print('    ', port.replace('input', 'reg'), ';')\n",
    "#     elif port.find('output', 0, 6) != -1:\n",
    "#         print('    ', port.replace('output', 'wire'),';')\n",
    "#     # else:\n",
    "#     #     print('    ', port, ';')\n",
    "# print('//initial block\\ninitial','\\n  begin', '\\n    //initial values')\n",
    "# for i in range (7):\n",
    "#     if(i != 0):\n",
    "#         print('  #'+ str(time_delay))\n",
    "#     for line in ports_list:\n",
    "#         if line.split()[0] == 'input':\n",
    "#             val = vector_size(line)\n",
    "#             print('    ',line.split()[-1], '=', val,'\\'b'+ bin(random.randint(0, pow(2,val)-1))[2:].zfill(val))\n",
    "\n",
    "# print('  $finish;','\\nend\\n')\n",
    "# print(m.name, 'DUT (')\n",
    "# for i,line in enumerate(ports_list, 0):\n",
    "#     print('  ',line.split()[-1], end='')\n",
    "#     if i != len(ports_list)-1:\n",
    "#         print(',')\n",
    "#     else:\n",
    "#         print('\\n);')\n",
    "\n",
    "# print('\\nendmodule')\n"
   ]
  },
  {
   "cell_type": "code",
   "execution_count": 419,
   "metadata": {},
   "outputs": [],
   "source": [
    "# old version\n",
    "content = \"\"\n",
    "time_delay = 10 #input or not\n",
    "content += ('module ' + m.name + ' _tb();\\n')\n",
    "for port in ports_list:\n",
    "    if port.find('wire'):\n",
    "        port.replace('wire', ' ')\n",
    "        if port.find('input', 0, 5) != -1:\n",
    "            content += ('    ' + port.replace('input', 'reg') + ';\\n')\n",
    "        elif port.find('output', 0, 6) != -1:\n",
    "            \n",
    "            content += ('    ' + port.replace('output', 'wire') + ';\\n')\n",
    "        else:\n",
    "            content += ('    ', port, ';\\n')\n",
    "content += ('//initial block\\ninitial\\n  begin\\n    //initial values\\n')\n",
    "for i in range (8):\n",
    "    if(i != 0):\n",
    "        content += ('  #'+ str(time_delay)+'\\n')\n",
    "    for line in ports_list:\n",
    "        if line.split()[0] == 'input':\n",
    "            val = vector_size(line)\n",
    "            content += ('    ' + line.split()[-1] + ' = '+ str(val) + '\\'b'+ bin(random.randint(0, pow(2,val)-1))[2:].zfill(val)+'\\n')\n",
    "\n",
    "content += ('  $finish;\\nend\\n')\n",
    "content += (m.name + ' DUT (\\n')\n",
    "for i,line in enumerate(ports_list, 0):\n",
    "    content += ('  .' + (line.split()[-1]).replace('_tb', '') + '(' + line.split()[-1]+')')\n",
    "    if i != len(ports_list)-1:\n",
    "        content += (',\\n')\n",
    "    else:\n",
    "        content += ('\\n);\\n')\n",
    "\n",
    "content += ('\\nendmodule')"
   ]
  },
  {
   "attachments": {},
   "cell_type": "markdown",
   "metadata": {},
   "source": [
    "### generate vector function generate the vector if size > 1"
   ]
  },
  {
   "cell_type": "code",
   "execution_count": 433,
   "metadata": {},
   "outputs": [],
   "source": [
    "def generate_vector(port_length):\n",
    "    if port_length == 1:\n",
    "        return ' '\n",
    "    else:\n",
    "        return (' [' + str(port_length - 1) + ':0] ')"
   ]
  },
  {
   "attachments": {},
   "cell_type": "markdown",
   "metadata": {},
   "source": [
    "### add testbench content in string"
   ]
  },
  {
   "cell_type": "code",
   "execution_count": 434,
   "metadata": {},
   "outputs": [],
   "source": [
    "def testbench_header_and_ports():\n",
    "    content = \"\"\n",
    "    content += ('module ' + m.name + '_tb();\\n')\n",
    "    for port in inputs_list:\n",
    "    # if port[\"mode\"].find('wire'):\n",
    "    #     port.replace('wire', ' ')\n",
    "        if port[\"mode\"].find('input', 0, 5) != -1:\n",
    "            content += ('    ' + port[\"mode\"].replace('input', 'reg') +  generate_vector(port[\"length\"]) + port[\"name\"] + ';\\n')\n",
    "        elif port[\"mode\"].find('output', 0, 6) != -1:\n",
    "            content += ('    ' + port[\"mode\"].replace('output', 'wire') + generate_vector(port[\"length\"]) + port[\"name\"] +  ';\\n')\n",
    "    return content\n",
    "        # else:\n",
    "        #     content += ('    ', port, ';\\n')"
   ]
  },
  {
   "cell_type": "code",
   "execution_count": 435,
   "metadata": {},
   "outputs": [],
   "source": [
    "def testbench_initial_block(time_delay):\n",
    "    content = \"\"\n",
    "    content += ('//initial block\\ninitial\\n  begin\\n    //initial values\\n')\n",
    "    maxPortSize = 3\n",
    "    for port in inputs_list :\n",
    "        maxPortSize = max(port[\"length\"],maxPortSize)\n",
    "    iterationCounter = int(pow(2,maxPortSize)/2)\n",
    "    for i in range (iterationCounter):\n",
    "        if(i != 0):\n",
    "            content += ('  #'+ str(time_delay)+'\\n')\n",
    "        for line in inputs_list:\n",
    "            if line[\"mode\"] == 'input':\n",
    "                val = line[\"length\"]\n",
    "                content += ('    ' + line[\"name\"] + ' = '+ str(val) + '\\'b'+ bin(random.randint(0, pow(2,val)-1))[2:].zfill(val)+'\\n')\n",
    "\n",
    "    content += ('  $finish;\\nend\\n')\n",
    "    return content"
   ]
  },
  {
   "cell_type": "code",
   "execution_count": 446,
   "metadata": {},
   "outputs": [],
   "source": [
    "def testbench_design_instance():\n",
    "    content = \"\"\n",
    "    content += ('// instaniate design instance\\n  ' + m.name + ' DUT (\\n')\n",
    "    for i,line in enumerate(inputs_list, 0):\n",
    "        content += ('    .' + (line[\"name\"]).replace('_tb', '') + '(' + line[\"name\"]+')')\n",
    "        if i != len(inputs_list)-1:\n",
    "            content += (',\\n')\n",
    "        else:\n",
    "            content += ('\\n);\\n')\n",
    "\n",
    "    content += ('\\nendmodule')\n",
    "\n",
    "    return content"
   ]
  },
  {
   "attachments": {},
   "cell_type": "markdown",
   "metadata": {},
   "source": [
    "### testbench file generation"
   ]
  },
  {
   "cell_type": "code",
   "execution_count": 437,
   "metadata": {},
   "outputs": [],
   "source": [
    "def generate_output_file(file_content):\n",
    "    with open('output.v', 'w') as f:\n",
    "        f.write(file_content)"
   ]
  },
  {
   "cell_type": "markdown",
   "metadata": {},
   "source": [
    "### Testbench generator"
   ]
  },
  {
   "cell_type": "code",
   "execution_count": 449,
   "metadata": {},
   "outputs": [],
   "source": [
    "time_delay = 10 #input or not\n",
    "test_bench_content = \"\"\n",
    "test_bench_content += testbench_header_and_ports() + testbench_initial_block(time_delay) + testbench_design_instance()\n",
    "generate_output_file(test_bench_content)"
   ]
  }
 ],
 "metadata": {
  "kernelspec": {
   "display_name": "base",
   "language": "python",
   "name": "python3"
  },
  "language_info": {
   "codemirror_mode": {
    "name": "ipython",
    "version": 3
   },
   "file_extension": ".py",
   "mimetype": "text/x-python",
   "name": "python",
   "nbconvert_exporter": "python",
   "pygments_lexer": "ipython3",
   "version": "3.9.12"
  },
  "orig_nbformat": 4,
  "vscode": {
   "interpreter": {
    "hash": "b57d2e1c31f7300b027b1154729c4f33a19579191bdba39adf23b26489f1f431"
   }
  }
 },
 "nbformat": 4,
 "nbformat_minor": 2
}
