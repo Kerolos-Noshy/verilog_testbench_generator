{
 "cells": [
  {
   "attachments": {},
   "cell_type": "markdown",
   "metadata": {},
   "source": [
    "### Import libraries"
   ]
  },
  {
   "cell_type": "code",
   "execution_count": 84,
   "metadata": {},
   "outputs": [],
   "source": [
    "import hdlparse.verilog_parser as vlog\n",
    "import re\n",
    "import random"
   ]
  },
  {
   "attachments": {},
   "cell_type": "markdown",
   "metadata": {},
   "source": [
    "### open and read verilog file"
   ]
  },
  {
   "cell_type": "code",
   "execution_count": 85,
   "metadata": {},
   "outputs": [],
   "source": [
    "vlog_ex = vlog.VerilogExtractor()\n",
    "fname = 'Module1.v'\n",
    "with open(fname, 'rt') as fh:\n",
    "  code = fh.read()\n",
    "vlog_mods = vlog_ex.extract_objects_from_source(code)\n",
    "\n",
    "vlog_mods = vlog_ex.extract_objects(fname)"
   ]
  },
  {
   "attachments": {},
   "cell_type": "markdown",
   "metadata": {},
   "source": [
    "### print module name and ports"
   ]
  },
  {
   "cell_type": "code",
   "execution_count": 87,
   "metadata": {},
   "outputs": [],
   "source": [
    "def vector_size(line):\n",
    "\tif re.search(r'\\[', line):\n",
    "\t\tlval = re.findall(r'\\[(.*):', line)[0]\n",
    "\t\trval = re.findall(r'\\[.*:(.*)\\]', line)[0]\n",
    "\t\treturn (abs(int(rval) - int(lval)) + 1)\n",
    "\treturn 1"
   ]
  },
  {
   "attachments": {},
   "cell_type": "markdown",
   "metadata": {},
   "source": [
    "### add each inputs and outputs in list as dictionary"
   ]
  },
  {
   "cell_type": "code",
   "execution_count": 89,
   "metadata": {},
   "outputs": [
    {
     "name": "stdout",
     "output_type": "stream",
     "text": [
      "\n",
      "  Ports:\n",
      "\tHasAccess           input   wire\n",
      "\tInput_Pin           input   reg [3:0]\n",
      "\tmessage             output  reg [3:0]\n",
      "\tWelcome             output  reg\n"
     ]
    }
   ],
   "source": [
    "for m in vlog_mods:\n",
    "  print('Module \"{}\":'.format(m.name))\n",
    "  inputs_list = []\n",
    "  ports_list = []\n",
    "  print('\\n  Ports:')\n",
    "  for p in m.ports:\n",
    "        if (p.data_type).find('[') != -1 :\n",
    "            inputs_list.append({\"name\":p.name ,\"mode\":p.mode ,\"data_type\":(p.data_type).split()[0],\"length\":vector_size((p.data_type).split()[1]) })\n",
    "        else :\n",
    "            inputs_list.append({\"name\":p.name ,\"mode\":p.mode ,\"data_type\":p.data_type, \"length\": 1})\n",
    "        print('\\t{:20}{:8}{}'.format(p.name, p.mode, p.data_type))\n"
   ]
  },
  {
   "attachments": {},
   "cell_type": "markdown",
   "metadata": {},
   "source": [
    "### generate vector function generate the vector if size > 1"
   ]
  },
  {
   "cell_type": "code",
   "execution_count": 101,
   "metadata": {},
   "outputs": [],
   "source": [
    "def generate_vector(port_length):\n",
    "    if port_length == 1:\n",
    "        return ' '\n",
    "    else:\n",
    "        return (' [' + str(port_length - 1) + ':0] ')"
   ]
  },
  {
   "cell_type": "code",
   "execution_count": 102,
   "metadata": {},
   "outputs": [],
   "source": [
    "def generate_range(port_length):\n",
    "    if port_length == 1:\n",
    "        return '1'\n",
    "    else:\n",
    "        return str(pow(2,port_length)-1)"
   ]
  },
  {
   "attachments": {},
   "cell_type": "markdown",
   "metadata": {},
   "source": [
    "### add testbench content in string"
   ]
  },
  {
   "cell_type": "code",
   "execution_count": 103,
   "metadata": {},
   "outputs": [],
   "source": [
    "def testbench_header_and_ports():\n",
    "    content = \"\"\n",
    "    content += ('module ' + m.name + '_tb();\\n')\n",
    "    for port in inputs_list:\n",
    "        if port[\"mode\"].find('input', 0, 5) != -1:\n",
    "            content += ('    ' + port[\"mode\"].replace('input', 'reg') +  generate_vector(port[\"length\"]) + port[\"name\"] + '_tb;\\n')\n",
    "        elif port[\"mode\"].find('output', 0, 6) != -1:\n",
    "            content += ('    ' + port[\"mode\"].replace('output', 'wire') + generate_vector(port[\"length\"]) + port[\"name\"] +  '_tb;\\n')\n",
    "    return content\n",
    "    "
   ]
  },
  {
   "cell_type": "code",
   "execution_count": 104,
   "metadata": {},
   "outputs": [],
   "source": [
    "def testbench_initial_block(time_delay):\n",
    "    global val\n",
    "    content = \"\"\n",
    "    content += ('  integer i;\\n  begin\\n//initial block\\ninitial\\n  begin\\n    //initial values\\n')\n",
    "    maxPortSize = 12\n",
    "    for port in inputs_list :\n",
    "        maxPortSize = max(port[\"length\"],maxPortSize)\n",
    "    iterationCounter = int(pow(2,maxPortSize)/2)\n",
    "    iterationCounter = min(maxPortSize, 50)\n",
    "    for i in range (iterationCounter):\n",
    "        if(i != 0):\n",
    "            content += ('  #'+ str(time_delay)+'\\n')\n",
    "        for line in inputs_list:\n",
    "            if line[\"mode\"] == 'input':\n",
    "                val = line[\"length\"]\n",
    "                content += ('    ' + line[\"name\"] + '_tb = '+ str(val) + '\\'b'+ bin(random.randint(0, pow(2,val)-1))[2:].zfill(val)+ ';' + '\\n')\n",
    "\n",
    "    content += ('\\n//Random generated constraints\\n')\n",
    "    content += ('for(i = 0; i < 100; i = i+1)\\n  begin\\n  #'+str(time_delay)+'\\n')\n",
    "    for line in inputs_list:\n",
    "            if line[\"mode\"] == 'input':\n",
    "                val = line[\"length\"]\n",
    "                content += ('    ' + line[\"name\"] + '_tb = '+ '$urandom_range(0,'+generate_range(val) + ');' + '\\n')\n",
    "    content+= ('  end\\n')\n",
    "    content += ('  $finish;\\nend\\n')\n",
    "    return content"
   ]
  },
  {
   "cell_type": "code",
   "execution_count": 106,
   "metadata": {},
   "outputs": [],
   "source": [
    "def testbench_design_instance():\n",
    "    content = \"\"\n",
    "    content += ('// instaniate design instance\\n  ' + m.name + ' DUT (\\n')\n",
    "    for i,line in enumerate(inputs_list, 0):\n",
    "        content += ('    .' + (line[\"name\"]).replace('_tb', '') + '(' + line[\"name\"]+ '_tb'+')')\n",
    "        if i != len(inputs_list)-1:\n",
    "            content += (',\\n')\n",
    "        else:\n",
    "            content += ('\\n);\\n')\n",
    "\n",
    "    return content"
   ]
  },
  {
   "cell_type": "code",
   "execution_count": 107,
   "metadata": {},
   "outputs": [],
   "source": [
    "def testbench_monitor_block() :\n",
    "    content = \"\"\n",
    "    word_size = []\n",
    "    content += ('initial begin\\n  $display (\"        \t\t\t\",\"Time ')\n",
    "    for port in inputs_list :\n",
    "        content += (port[\"name\"]+ ' ')\n",
    "        word_size.append(len(port[\"name\"]))\n",
    "    content += ('\");\\n')\n",
    "    content += ('  $monitor(\"    %d')\n",
    "    for i in range(1, len(inputs_list)+1) :\n",
    "        w = max(word_size[i-1], port[\"length\"])\n",
    "        s = '{space:{width}}{id}'.format(space = ' ', width = w+1, id = '%d')\n",
    "        content += (s)\n",
    "    content += ('\" , $time')\n",
    "    for port in inputs_list :\n",
    "        content += (','+ port[\"name\"]+'_tb')\n",
    "    content += (');\\n')\n",
    "    content += ('end\\n')\n",
    "    content += ('end\\nendmodule')\n",
    "    return content"
   ]
  },
  {
   "attachments": {},
   "cell_type": "markdown",
   "metadata": {},
   "source": [
    "### testbench file generation"
   ]
  },
  {
   "cell_type": "code",
   "execution_count": 109,
   "metadata": {},
   "outputs": [],
   "source": [
    "def generate_output_file(file_content):\n",
    "    output_file = fname.replace('.v', '_tb.v') \n",
    "    with open(output_file, 'w') as f:\n",
    "            f.write(file_content)"
   ]
  },
  {
   "cell_type": "markdown",
   "metadata": {},
   "source": [
    "### Testbench generator"
   ]
  },
  {
   "cell_type": "code",
   "execution_count": 110,
   "metadata": {},
   "outputs": [],
   "source": [
    "time_delay = 10 #input or not\n",
    "test_bench_content = \"\"\n",
    "test_bench_content += testbench_header_and_ports() + testbench_initial_block(time_delay) + testbench_design_instance() + testbench_monitor_block()\n",
    "generate_output_file(test_bench_content)"
   ]
  }
 ],
 "metadata": {
  "kernelspec": {
   "display_name": "base",
   "language": "python",
   "name": "python3"
  },
  "language_info": {
   "codemirror_mode": {
    "name": "ipython",
    "version": 3
   },
   "file_extension": ".py",
   "mimetype": "text/x-python",
   "name": "python",
   "nbconvert_exporter": "python",
   "pygments_lexer": "ipython3",
   "version": "3.9.12"
  },
  "orig_nbformat": 4,
  "vscode": {
   "interpreter": {
    "hash": "b57d2e1c31f7300b027b1154729c4f33a19579191bdba39adf23b26489f1f431"
   }
  }
 },
 "nbformat": 4,
 "nbformat_minor": 2
}
